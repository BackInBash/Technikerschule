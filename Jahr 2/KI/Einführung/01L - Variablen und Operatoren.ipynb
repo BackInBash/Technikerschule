{
 "cells": [
  {
   "cell_type": "markdown",
   "metadata": {},
   "source": [
    "## Übung 1  \n",
    "Lesen Sie von der Konsole eine beliebige Anzahl von Sekunden ein.  \n",
    "Diese soll in Stunden, Minuten und Sekunden umgerechnet werden."
   ]
  },
  {
   "cell_type": "code",
   "execution_count": 1,
   "metadata": {},
   "outputs": [
    {
     "name": "stdin",
     "output_type": "stream",
     "text": [
      "Sekunden:  10\n"
     ]
    },
    {
     "name": "stdout",
     "output_type": "stream",
     "text": [
      "Stunden:  0\n",
      "Minuten:  0\n",
      "Sekunden:  10\n"
     ]
    }
   ],
   "source": [
    "sekunden = int(input(\"Sekunden: \"))\n",
    "stunden = sekunden // 3600\n",
    "print(\"Stunden: \",stunden)\n",
    "sekunden %=3600\n",
    "minuten = sekunden//60\n",
    "print(\"Minuten: \", minuten)\n",
    "sekunden %=60\n",
    "print(\"Sekunden: \", sekunden)"
   ]
  },
  {
   "cell_type": "markdown",
   "metadata": {},
   "source": [
    "## Übung 2\n",
    "Lesen Sie von der Konsole den Radius r eines Kreises ein.\n",
    "Berechnen Sie Kreisfläche und Kreisumfang"
   ]
  },
  {
   "cell_type": "code",
   "execution_count": 3,
   "metadata": {},
   "outputs": [
    {
     "name": "stdin",
     "output_type": "stream",
     "text": [
      "Radius:  10\n"
     ]
    },
    {
     "name": "stdout",
     "output_type": "stream",
     "text": [
      "Fläche:  314.1592653589793\n"
     ]
    }
   ],
   "source": [
    "import math\n",
    "radius = float(input(\"Radius: \"))\n",
    "flaeche = math.pi * radius**2\n",
    "umfang = 2.0 * math.pi * radius\n",
    "print(\"Fläche: \",flaeche)\n"
   ]
  },
  {
   "cell_type": "code",
   "execution_count": null,
   "metadata": {},
   "outputs": [],
   "source": []
  }
 ],
 "metadata": {
  "kernelspec": {
   "display_name": "Python 3",
   "language": "python",
   "name": "python3"
  },
  "language_info": {
   "codemirror_mode": {
    "name": "ipython",
    "version": 3
   },
   "file_extension": ".py",
   "mimetype": "text/x-python",
   "name": "python",
   "nbconvert_exporter": "python",
   "pygments_lexer": "ipython3",
   "version": "3.8.3"
  }
 },
 "nbformat": 4,
 "nbformat_minor": 4
}
