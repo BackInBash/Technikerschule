{
 "cells": [
  {
   "cell_type": "markdown",
   "metadata": {},
   "source": [
    "# Bitweise Operatoren"
   ]
  },
  {
   "cell_type": "markdown",
   "metadata": {},
   "source": [
    "## Bitweise ODER <font color=red>**|**</font>  $\\rightarrow$ Zum gezielten Setzen einzelner Bits"
   ]
  },
  {
   "cell_type": "code",
   "execution_count": 21,
   "metadata": {},
   "outputs": [
    {
     "data": {
      "text/plain": [
       "43"
      ]
     },
     "execution_count": 21,
     "metadata": {},
     "output_type": "execute_result"
    }
   ],
   "source": [
    "wert     = 0x29         # 0b 0 0 1 0  1 0 0 1  -> 41\n",
    "maske    = 0x03         # 0b 0 0 0 0  0 0 1 1  ->  3\n",
    "ergebnis = wert | maske # 0b 0 0 1 0  1 0 1 1  -> 0x2B -> 43\n",
    "ergebnis"
   ]
  },
  {
   "cell_type": "markdown",
   "metadata": {},
   "source": [
    "## Bitweise UND <font color=red>**&**</font>  $\\rightarrow$ Zum gezielten Löschen einzelner Bits"
   ]
  },
  {
   "cell_type": "code",
   "execution_count": 22,
   "metadata": {},
   "outputs": [
    {
     "data": {
      "text/plain": [
       "40"
      ]
     },
     "execution_count": 22,
     "metadata": {},
     "output_type": "execute_result"
    }
   ],
   "source": [
    "wert     = 0x29         # 0b 0 0 1 0  1 0 0 1  ->  41\n",
    "maske    = 0xFC         # 0b 1 1 1 1  1 1 0 0  -> 252\n",
    "ergebnis = wert & maske # 0b 0 0 1 0  1 0 0 0  -> 0x28 -> 40\n",
    "ergebnis"
   ]
  },
  {
   "cell_type": "markdown",
   "metadata": {},
   "source": [
    "## Bitweise EXOR <font color=red>**^**</font>  $\\rightarrow$ Zum gezielten Invertieren einzelner Bits"
   ]
  },
  {
   "cell_type": "code",
   "execution_count": 23,
   "metadata": {},
   "outputs": [
    {
     "data": {
      "text/plain": [
       "42"
      ]
     },
     "execution_count": 23,
     "metadata": {},
     "output_type": "execute_result"
    }
   ],
   "source": [
    "wert     = 0x29         # 0b 0 0 1 0  1 0 0 1  ->  41\n",
    "maske    = 0x03         # 0b 0 0 0 0  0 0 1 1  ->  3\n",
    "ergebnis = wert ^ maske # 0b 0 0 1 0  1 0 1 0  -> 0x28 -> 42\n",
    "ergebnis"
   ]
  },
  {
   "cell_type": "markdown",
   "metadata": {},
   "source": [
    "## Alle Bits invertieren mit <font color=red>**~**</font>"
   ]
  },
  {
   "cell_type": "code",
   "execution_count": 24,
   "metadata": {},
   "outputs": [
    {
     "data": {
      "text/plain": [
       "-42"
      ]
     },
     "execution_count": 24,
     "metadata": {},
     "output_type": "execute_result"
    }
   ],
   "source": [
    "wert     = 0x29         # 0b 0 0 1 0  1 0 0 1  ->  41\n",
    "ergebnis = ~wert\n",
    "ergebnis                # 0b 1 1 0 1  0 1 1 0  -> -42\n",
    "                        # 0b 0 0 1 0  1 0 0 1  -> Einerkomplement -> Alle Bits negieren\n",
    "                        # 0b 0 0 1 0  1 0 1 0  -> Zweierkomplement-> Einerkomplement +1"
   ]
  },
  {
   "cell_type": "markdown",
   "metadata": {},
   "source": [
    "## Bitweise nach links schieben <font color=red>**<<**</font>  $\\rightarrow$ Entspricht einer Multiplikation mit $2^n$"
   ]
  },
  {
   "cell_type": "code",
   "execution_count": 2,
   "metadata": {},
   "outputs": [
    {
     "data": {
      "text/plain": [
       "6"
      ]
     },
     "execution_count": 2,
     "metadata": {},
     "output_type": "execute_result"
    }
   ],
   "source": [
    "wert = 0x06            # 0b 0 0 0 0  0 1 1 0  -> 6\n",
    "ergebnis = wert << 1   # 0b 0 0 0 0  1 1 0 0  -> 12\n",
    "ergebnis = wert << 3   # 0b 0 0 1 1  0 0 0 0  -> 0x30 -> 48  \n",
    "ergebnis\n",
    "wert"
   ]
  },
  {
   "cell_type": "markdown",
   "metadata": {},
   "source": [
    "## Bitweise nach rechts schieben <font color=red>**>>**</font>  $\\rightarrow$ Entspricht einer Division durch $2^n$"
   ]
  },
  {
   "cell_type": "code",
   "execution_count": 16,
   "metadata": {},
   "outputs": [
    {
     "data": {
      "text/plain": [
       "3"
      ]
     },
     "execution_count": 16,
     "metadata": {},
     "output_type": "execute_result"
    }
   ],
   "source": [
    "wert = 0x18            # 0b 0 0 1 1  0 0 0 0  -> 48\n",
    "ergebnis = wert >> 1   # 0b 0 0 0 1  1 0 0 0  -> 0x18 -> 24\n",
    "ergebnis = wert >> 3   # 0b 0 0 0 0  0 0 1 1  -> 0x03 -> 3\n",
    "ergebnis"
   ]
  },
  {
   "cell_type": "code",
   "execution_count": null,
   "metadata": {},
   "outputs": [],
   "source": []
  }
 ],
 "metadata": {
  "kernelspec": {
   "display_name": "Python 3",
   "language": "python",
   "name": "python3"
  },
  "language_info": {
   "codemirror_mode": {
    "name": "ipython",
    "version": 3
   },
   "file_extension": ".py",
   "mimetype": "text/x-python",
   "name": "python",
   "nbconvert_exporter": "python",
   "pygments_lexer": "ipython3",
   "version": "3.8.5"
  }
 },
 "nbformat": 4,
 "nbformat_minor": 4
}
