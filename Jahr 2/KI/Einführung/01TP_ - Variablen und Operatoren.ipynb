{
 "cells": [
  {
   "cell_type": "markdown",
   "metadata": {},
   "source": [
    "# Variablen und Operatoren    "
   ]
  },
  {
   "cell_type": "markdown",
   "metadata": {},
   "source": [
    "## Kommentare"
   ]
  },
  {
   "cell_type": "code",
   "execution_count": null,
   "metadata": {},
   "outputs": [],
   "source": [
    "# rechts davon ist Kommentar\n",
    "\"\"\"\n",
    "ein Kommentar \n",
    "über mehrere \n",
    "Zeilen\n",
    "\"\"\"\n",
    "print(\"Hallo \",end=\"\")  # print ohne Zeilenumbruch\n",
    "print(\"Welt\")           # print mit Zeilenumbruch end=\"\\n\" als Default-Value"
   ]
  },
  {
   "cell_type": "markdown",
   "metadata": {},
   "source": [
    "## Variablen\n",
    "Python legt im Gegensatz zu vielen anderen Programmiersprachen erst zur Laufzeit den Datentyp von Variablen fest.  \n",
    "Dieser kann sich auch im Laufe des Programms ändern.  \n",
    "Hierfür gibt es den Fachbegriff dynamische Typisierung (dynamic typing).  \n",
    "#### siehe  \n",
    "https://www.w3schools.com/python/python_variables.asp  \n",
    "https://www.python-kurs.eu/python3_variablen.php"
   ]
  },
  {
   "cell_type": "code",
   "execution_count": null,
   "metadata": {},
   "outputs": [],
   "source": [
    "#Variablen\n",
    "v1 = 1\n",
    "print(v1)\n",
    "print(type(v1))\n",
    "\n",
    "#Datentypen\n",
    "v2 = 2\n",
    "v3 = 3.5\n",
    "v4 = 'Jan' \n",
    "v5 = True\n",
    "v1 = v1 / v2\n",
    "\n",
    "#Ausgabe\n",
    "print('Datentypen im Vergleich!')\n",
    "print(v2)\n",
    "print(type(v2))\n",
    "print(v3)\n",
    "print(type(v3))\n",
    "print(v4)\n",
    "print(type(v4))\n",
    "print(v5)\n",
    "print(type(v5))\n",
    "print(v1)\n",
    "print(type(v1))\n"
   ]
  },
  {
   "cell_type": "markdown",
   "metadata": {},
   "source": [
    "## Ausdrücke und Operatoren\n",
    "In Python ist es nicht üblich eine Programmzeile mit einem Semikolon ';' zu beenden.  \n",
    "Als Zuweisungsoperator wird wie in anderen Programmiersprachen auch ein '=' verwendet.\n",
    "#### siehe  \n",
    "https://www.w3schools.com/python/python_operators.asp  \n",
    "https://www.python-kurs.eu/python3_operatoren.php"
   ]
  },
  {
   "cell_type": "code",
   "execution_count": null,
   "metadata": {},
   "outputs": [],
   "source": [
    "x = 5 / 2\n",
    "print(x)\n",
    "print(type(x))\n",
    "print(\"Rechnen wie in der Grundschule!\")\n",
    "y = 5 // 2 # Ganzahldivision \n",
    "z = 5 % 2  # Rest ermitteln mit Modulooperator\n",
    "print('5 / 2 = ', y,'Rest',z)\n"
   ]
  },
  {
   "cell_type": "code",
   "execution_count": 1,
   "metadata": {},
   "outputs": [
    {
     "name": "stdout",
     "output_type": "stream",
     "text": [
      "3 hoch 2 ist  9\n"
     ]
    }
   ],
   "source": [
    "a = 3**2 # Exponent 3^2 = 9\n",
    "print('3 hoch 2 ist ', a)"
   ]
  },
  {
   "cell_type": "markdown",
   "metadata": {},
   "source": [
    "## Mathematische Funktionen\n",
    "#### siehe auch  \n",
    "https://www.w3schools.com/python/python_math.asp  \n",
    "https://docs.python.org/3.8/library/math.html"
   ]
  },
  {
   "cell_type": "code",
   "execution_count": 2,
   "metadata": {},
   "outputs": [
    {
     "name": "stdout",
     "output_type": "stream",
     "text": [
      "3.0^2 + 4.0^2 = 5.0\n",
      "Sinus von 45° =  0.7071067811865475\n"
     ]
    }
   ],
   "source": [
    "import math\n",
    "a = 3.0\n",
    "b = 4.0\n",
    "c = math.sqrt(a**2 + b**2)\n",
    "print(a,\"^2 + \",b, \"^2 = \",c,sep='')\n",
    "\n",
    "y = math.sin(math.radians(45)) # math.radians() rechnet den Winkel ins Bogenmaß um\n",
    "#y = math.sin(45 * math.pi/180)\n",
    "print(\"Sinus von 45° = \",y)"
   ]
  },
  {
   "cell_type": "markdown",
   "metadata": {},
   "source": [
    "## Priorität von Operatoren\n",
    " <img src=\"images/precedence_table.png\" >\n",
    " \n",
    "Die Ganzzahldivision `//` hat die Gleiche Priorität wie `*`,`/`,`%`"
   ]
  },
  {
   "cell_type": "code",
   "execution_count": 3,
   "metadata": {},
   "outputs": [
    {
     "name": "stdout",
     "output_type": "stream",
     "text": [
      "256\n"
     ]
    }
   ],
   "source": [
    "# Was ist?\n",
    "a=2\n",
    "y = a**2**3  # 64 oder 256?\n",
    "print(y)"
   ]
  },
  {
   "cell_type": "markdown",
   "metadata": {},
   "source": [
    "## Einlesen von der Konsole  \n",
    "Die Funktion input() liefert beim Einlesen von der Konsole einen String.  \n",
    "Dieses Ergebnis kann bei Bedarf durch explizites Typecasting umgewandelt werden.  \n",
    "Für die explizite Typumwandlung stehen folgende Funktionen <b>int(), float() und str()</b> zur Verfügung. "
   ]
  },
  {
   "cell_type": "code",
   "execution_count": 4,
   "metadata": {},
   "outputs": [
    {
     "name": "stdin",
     "output_type": "stream",
     "text": [
      "Dein Vorname:  Clemens\n",
      "Dein Nachname:  Koerdt\n"
     ]
    },
    {
     "name": "stdout",
     "output_type": "stream",
     "text": [
      "Hallo Clemens Koerdt\n"
     ]
    }
   ],
   "source": [
    "# Beispiel 1\n",
    "vorname = input(\"Dein Vorname: \")   # die Funktion input() liefert beim Einlesen von der Konsole einen String\n",
    "nachname = input(\"Dein Nachname: \")\n",
    "print(\"Hallo\",vorname,nachname)"
   ]
  },
  {
   "cell_type": "code",
   "execution_count": 5,
   "metadata": {},
   "outputs": [
    {
     "name": "stdin",
     "output_type": "stream",
     "text": [
      "Zahl 1:  5\n",
      "Zahl 2:  -3\n"
     ]
    },
    {
     "name": "stdout",
     "output_type": "stream",
     "text": [
      "5 + -3 = 2\n"
     ]
    }
   ],
   "source": [
    "# Beispiel 2\n",
    "zahl1 = int(input(\"Zahl 1: \"))\n",
    "zahl2 = int(input(\"Zahl 2: \"))\n",
    "ergebnis = zahl1 + zahl2\n",
    "print(zahl1,\"+\",zahl2,\"=\",ergebnis)"
   ]
  },
  {
   "cell_type": "markdown",
   "metadata": {},
   "source": [
    "## Default Parameter bei print\n",
    "Normalerweise wird beim Ausgeben von mehreren Elementen mittels `print` jeweils ein Leerzeichen zwischen den Elementen ausgebeben. Jede `print` Ausgabe wird üblicherweise mit einem Zeilenumbruch beendet. Wenn dieses Verhalten nicht gewünscht ist, muss die Funktion `print`mit den Parametern `end` bzw. `sep` aufrufen werden."
   ]
  },
  {
   "cell_type": "code",
   "execution_count": 7,
   "metadata": {},
   "outputs": [
    {
     "name": "stdout",
     "output_type": "stream",
     "text": [
      "Help on built-in function print in module builtins:\n",
      "\n",
      "print(...)\n",
      "    print(value, ..., sep=' ', end='\\n', file=sys.stdout, flush=False)\n",
      "    \n",
      "    Prints the values to a stream, or to sys.stdout by default.\n",
      "    Optional keyword arguments:\n",
      "    file:  a file-like object (stream); defaults to the current sys.stdout.\n",
      "    sep:   string inserted between values, default a space.\n",
      "    end:   string appended after the last value, default a newline.\n",
      "    flush: whether to forcibly flush the stream.\n",
      "\n"
     ]
    }
   ],
   "source": [
    "help(print)"
   ]
  },
  {
   "cell_type": "code",
   "execution_count": 8,
   "metadata": {},
   "outputs": [
    {
     "name": "stdout",
     "output_type": "stream",
     "text": [
      "In 22 Tagen ist Weihnachten\n",
      "Bald*ist*Weihnachten\n",
      "In 22 Tagen ist Weihnachten "
     ]
    }
   ],
   "source": [
    "# Beispiele \n",
    "print(\"In\",22,\"Tagen\",\"ist\",\"Weihnachten\") \n",
    "print(\"Bald\",\"ist\",\"Weihnachten\",sep='*')\n",
    "wordList = [\"In\",22,\"Tagen\",\"ist\",\"Weihnachten\"]\n",
    "for word in wordList:\n",
    "    print(word,end=' ')"
   ]
  },
  {
   "cell_type": "code",
   "execution_count": 9,
   "metadata": {},
   "outputs": [
    {
     "name": "stdout",
     "output_type": "stream",
     "text": [
      "yesyesyesyesyes nonono\n"
     ]
    }
   ],
   "source": [
    "# noch was abgefahrenes\n",
    "print(\"yes\"*5,\"no\"*3)"
   ]
  },
  {
   "cell_type": "markdown",
   "metadata": {},
   "source": [
    "## String-Interpolation mit f-Strings\n",
    "Häufig sollen in Programmen Variablenwerte in Strings eingefügt werden. Dazu gibt es historisch in Python (wie in den meisten anderen Programmiersprachen) verschiedene Möglichkeiten. Seit Python 3.6 ist die bevorzugte Variante die Verwendung von [f-Strings](https://www.codeflow.site/de/article/python-f-strings#_f_strings_eine_neue_und_verbesserte_methode_zum_formatieren_von_strings_in_python) (kurz für: Format-Strings).\n",
    "\n",
    "- f-Strings erkennt man am vorangestellten Buchstaben f, z.B.: `f\"Hallo {name}\"`\n",
    "- im f-String werden Ausdrücke innerhalb von geschweiften Klammern zur Laufzeit ausgewertet und durch ihren Wert ersetzt\n",
    "- d.h. Variablennamen werden durch den Wert der Variable ersetzt\n",
    "- Terme durch ihren berechneten Wert\n",
    "- Funktionsaufrufe durch deren Return-Wert\n",
    "- usw."
   ]
  },
  {
   "cell_type": "code",
   "execution_count": null,
   "metadata": {},
   "outputs": [],
   "source": [
    "name = \"Horst\"\n",
    "alter = 42\n",
    "print(f\"Ich heiße {name} und bin {alter} Jahre alt.\")\n",
    "print(f\"In Hundejahren wären das {alter*7} Jahre.\")"
   ]
  },
  {
   "cell_type": "markdown",
   "metadata": {},
   "source": [
    "## Übung 1  \n",
    "Lesen Sie von der Konsole eine beliebige Anzahl von Sekunden ein.  \n",
    "Diese soll in Stunden, Minuten und Sekunden umgerechnet werden."
   ]
  },
  {
   "cell_type": "code",
   "execution_count": 15,
   "metadata": {},
   "outputs": [
    {
     "name": "stdin",
     "output_type": "stream",
     "text": [
      "Gib ma Sekunden an:  3666\n"
     ]
    },
    {
     "name": "stdout",
     "output_type": "stream",
     "text": [
      "3666 Sekunden sind  1 Stunde(n) und  1 Minute(n) und 6 Sekunde(n).\n"
     ]
    }
   ],
   "source": []
  },
  {
   "cell_type": "markdown",
   "metadata": {},
   "source": [
    "## Übung 2\n",
    "Lesen Sie von der Konsole den Radius r eines Kreises ein.\n",
    "Berechnen Sie Kreisfläche und Kreisumfang"
   ]
  },
  {
   "cell_type": "code",
   "execution_count": 17,
   "metadata": {},
   "outputs": [
    {
     "name": "stdin",
     "output_type": "stream",
     "text": [
      "Gib ma Radius an:  5\n"
     ]
    },
    {
     "name": "stdout",
     "output_type": "stream",
     "text": [
      "Kreisfläche: \t 78.53981633974483\n"
     ]
    }
   ],
   "source": []
  },
  {
   "cell_type": "code",
   "execution_count": 18,
   "metadata": {},
   "outputs": [
    {
     "name": "stdout",
     "output_type": "stream",
     "text": [
      "Kreisumfang: \t 31.41592653589793\n"
     ]
    }
   ],
   "source": []
  },
  {
   "cell_type": "code",
   "execution_count": 20,
   "metadata": {},
   "outputs": [
    {
     "name": "stdout",
     "output_type": "stream",
     "text": [
      "5 22222\n"
     ]
    }
   ],
   "source": [
    "print(r,r*\"2\")"
   ]
  },
  {
   "cell_type": "code",
   "execution_count": 25,
   "metadata": {},
   "outputs": [
    {
     "name": "stdout",
     "output_type": "stream",
     "text": [
      "-1\n",
      "0\n"
     ]
    }
   ],
   "source": [
    "for i in range(-1,1):\n",
    "    print(i)"
   ]
  },
  {
   "cell_type": "code",
   "execution_count": 26,
   "metadata": {},
   "outputs": [
    {
     "data": {
      "text/plain": [
       "\u001b[0;31mInit signature:\u001b[0m \u001b[0mrange\u001b[0m\u001b[0;34m(\u001b[0m\u001b[0mself\u001b[0m\u001b[0;34m,\u001b[0m \u001b[0;34m/\u001b[0m\u001b[0;34m,\u001b[0m \u001b[0;34m*\u001b[0m\u001b[0margs\u001b[0m\u001b[0;34m,\u001b[0m \u001b[0;34m**\u001b[0m\u001b[0mkwargs\u001b[0m\u001b[0;34m)\u001b[0m\u001b[0;34m\u001b[0m\u001b[0;34m\u001b[0m\u001b[0m\n",
       "\u001b[0;31mDocstring:\u001b[0m     \n",
       "range(stop) -> range object\n",
       "range(start, stop[, step]) -> range object\n",
       "\n",
       "Return an object that produces a sequence of integers from start (inclusive)\n",
       "to stop (exclusive) by step.  range(i, j) produces i, i+1, i+2, ..., j-1.\n",
       "start defaults to 0, and stop is omitted!  range(4) produces 0, 1, 2, 3.\n",
       "These are exactly the valid indices for a list of 4 elements.\n",
       "When step is given, it specifies the increment (or decrement).\n",
       "\u001b[0;31mType:\u001b[0m           type\n",
       "\u001b[0;31mSubclasses:\u001b[0m     \n"
      ]
     },
     "metadata": {},
     "output_type": "display_data"
    }
   ],
   "source": [
    "range?"
   ]
  },
  {
   "cell_type": "code",
   "execution_count": null,
   "metadata": {},
   "outputs": [],
   "source": []
  }
 ],
 "metadata": {
  "kernelspec": {
   "display_name": "Python 3",
   "language": "python",
   "name": "python3"
  },
  "language_info": {
   "codemirror_mode": {
    "name": "ipython",
    "version": 3
   },
   "file_extension": ".py",
   "mimetype": "text/x-python",
   "name": "python",
   "nbconvert_exporter": "python",
   "pygments_lexer": "ipython3",
   "version": "3.8.11"
  }
 },
 "nbformat": 4,
 "nbformat_minor": 4
}
