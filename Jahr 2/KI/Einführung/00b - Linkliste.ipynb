{
 "cells": [
  {
   "cell_type": "markdown",
   "metadata": {},
   "source": [
    "# Linkliste\n",
    "- https://www.w3schools.com/python/\n",
    "- https://www.python-kurs.eu/python3_kurs.php\n",
    "- https://colab.research.google.com/github/thecoducer/blog/blob/master/_notebooks/2020-04-16-Learning-Python.ipynb\n",
    "- https://www.udemy.com/course/python-bootcamp/\n",
    "- https://towardsdatascience.com/20-python-programming-tips-and-tricks-for-beginners-25d44db03aea\n",
    "\n",
    "#### OpenEDG Learning & Testing Platform\n",
    "- https://edube.org/login\n"
   ]
  },
  {
   "cell_type": "code",
   "execution_count": null,
   "metadata": {},
   "outputs": [],
   "source": []
  }
 ],
 "metadata": {
  "kernelspec": {
   "display_name": "Python 3",
   "language": "python",
   "name": "python3"
  },
  "language_info": {
   "codemirror_mode": {
    "name": "ipython",
    "version": 3
   },
   "file_extension": ".py",
   "mimetype": "text/x-python",
   "name": "python",
   "nbconvert_exporter": "python",
   "pygments_lexer": "ipython3",
   "version": "3.8.11"
  }
 },
 "nbformat": 4,
 "nbformat_minor": 4
}
