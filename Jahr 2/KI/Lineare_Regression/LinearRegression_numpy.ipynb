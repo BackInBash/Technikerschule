{
 "cells": [
  {
   "cell_type": "code",
   "execution_count": 8,
   "id": "b92afd10-c109-4ea8-ad47-e5ad081d83ff",
   "metadata": {},
   "outputs": [],
   "source": [
    "import matplotlib.pyplot as plt\n",
    "import pandas as pd\n",
    "import numpy as np"
   ]
  },
  {
   "cell_type": "code",
   "execution_count": 3,
   "id": "69876c31-e559-4e98-9f39-baac1e183932",
   "metadata": {},
   "outputs": [],
   "source": [
    "x = [1, 2, 3, 4, 5]"
   ]
  },
  {
   "cell_type": "code",
   "execution_count": null,
   "id": "3428c489-85ea-42e8-b60c-4e6b65a863a1",
   "metadata": {},
   "outputs": [],
   "source": [
    "y = [3, 5.5, 2.9, 9.3, 10.3]"
   ]
  },
  {
   "cell_type": "code",
   "execution_count": null,
   "id": "f45e48d2-f869-4dad-b84e-3746afaf3ff4",
   "metadata": {},
   "outputs": [],
   "source": [
    "df = pd.DataFrame(y,x)\n",
    "df"
   ]
  },
  {
   "cell_type": "code",
   "execution_count": null,
   "id": "be23492e-d3c0-4bfe-97b7-33173bdc4ec6",
   "metadata": {},
   "outputs": [],
   "source": [
    "plt.scatter(x, y)"
   ]
  },
  {
   "cell_type": "code",
   "execution_count": null,
   "id": "7bac426a-ceb4-48ca-b6d2-542d2713f104",
   "metadata": {},
   "outputs": [],
   "source": [
    "m, c = np.polyfit(x, y, 1)\n",
    "m,c "
   ]
  },
  {
   "cell_type": "code",
   "execution_count": null,
   "id": "e6b814ad-79b0-402c-bd14-4549dd5bacdb",
   "metadata": {},
   "outputs": [],
   "source": [
    "#x2 = np.arange(0,5,0.1)   #oder (0, 200, 1)"
   ]
  },
  {
   "cell_type": "code",
   "execution_count": null,
   "id": "69750586-0025-417a-a596-801d5e982cc5",
   "metadata": {},
   "outputs": [],
   "source": [
    "y2= [m*element+c for element in x]\n",
    "y2"
   ]
  },
  {
   "cell_type": "code",
   "execution_count": null,
   "id": "c42fb508-c026-4ad1-9ded-a0fbd7bdb724",
   "metadata": {},
   "outputs": [],
   "source": [
    "plt.plot(x, y2)\n",
    "plt.scatter(x,y)"
   ]
  },
  {
   "cell_type": "code",
   "execution_count": null,
   "id": "09edc39a-112f-424b-8b1e-69da6b0e16dd",
   "metadata": {},
   "outputs": [],
   "source": [
    "np.polyfit(x,y,1)"
   ]
  },
  {
   "cell_type": "markdown",
   "id": "9c2197ff-0ed7-4583-9851-086ea4bc327f",
   "metadata": {},
   "source": [
    "yp sind die aus dem Modell (lineare Funktion) vorhergesagten (predicted) Werte. Hier umgewandelt in ein numpy Array, um besser damit weiterrechnen zu können."
   ]
  },
  {
   "cell_type": "code",
   "execution_count": null,
   "id": "8ca042b5-5d57-40bc-a69f-68b9949cd943",
   "metadata": {
    "tags": []
   },
   "outputs": [],
   "source": [
    "yp=np.array(y2)\n",
    "yp"
   ]
  },
  {
   "cell_type": "markdown",
   "id": "40c388d1-c09c-45e7-a2b2-6738ce11a240",
   "metadata": {},
   "source": [
    "Auch die Liste mit den x-Werten wird in ein numpy Array umgewandelt"
   ]
  },
  {
   "cell_type": "code",
   "execution_count": null,
   "id": "7ab6642b-74b3-4611-87ef-d5fafff29ca5",
   "metadata": {
    "tags": []
   },
   "outputs": [],
   "source": [
    "xx=np.array(x)\n",
    "xx"
   ]
  },
  {
   "cell_type": "markdown",
   "id": "4c41f391-8eef-4ced-a662-c70b6c5d5deb",
   "metadata": {},
   "source": [
    "yy sind die \"gemessenen\" Werte, hier auch umgewandelt in ein Numpy Array."
   ]
  },
  {
   "cell_type": "code",
   "execution_count": null,
   "id": "4f084292-38f0-46fa-8180-8cada2cbad5f",
   "metadata": {
    "tags": []
   },
   "outputs": [],
   "source": [
    "yy=np.array(y)"
   ]
  },
  {
   "cell_type": "markdown",
   "id": "48c03ed8-894d-47ef-9519-883353ab2d2c",
   "metadata": {},
   "source": [
    "res (residuals) sind die Abweichungen der vorhergesagten Werte von den gemessenen Werten."
   ]
  },
  {
   "cell_type": "code",
   "execution_count": null,
   "id": "3456d13a-7994-4150-9a57-0dfffd5ead8c",
   "metadata": {
    "tags": []
   },
   "outputs": [],
   "source": [
    "res=yp-yy\n",
    "res"
   ]
  },
  {
   "cell_type": "code",
   "execution_count": null,
   "id": "71bf2880-c9f6-42e1-8759-6e43fc14ee4b",
   "metadata": {},
   "outputs": [],
   "source": [
    "np.mean(res)"
   ]
  },
  {
   "cell_type": "markdown",
   "id": "ec02765c-bba3-4a37-a1b6-11388f5a8bff",
   "metadata": {},
   "source": [
    "mae steht für den \"mean absolute error\", also der Mittelwert der Beträge meiner Abweichungen \"res\"."
   ]
  },
  {
   "cell_type": "code",
   "execution_count": null,
   "id": "af8ecd16-656b-4109-812e-70b72a77f53a",
   "metadata": {},
   "outputs": [],
   "source": [
    "mae = np.mean(abs(res))\n",
    "mae"
   ]
  },
  {
   "cell_type": "markdown",
   "id": "962e1a2d-0506-44f5-8bfa-2c8e91b245ab",
   "metadata": {},
   "source": [
    "Oft werden die Abweichungen erst quadriert und dann gemittelt:"
   ]
  },
  {
   "cell_type": "code",
   "execution_count": null,
   "id": "b297f461-7678-4815-a700-5ec4136f0087",
   "metadata": {
    "tags": []
   },
   "outputs": [],
   "source": [
    "squared_error = [element**2 for element in res]\n",
    "squared_error"
   ]
  },
  {
   "cell_type": "markdown",
   "id": "fccd48bd-3e90-40eb-97e4-984b41747ca7",
   "metadata": {},
   "source": [
    "Das am häufigsten verwendete Maß für den Fehler ist der \"mean squared error\"."
   ]
  },
  {
   "cell_type": "code",
   "execution_count": null,
   "id": "129f8ea7-a959-4b4a-a290-8cedd66b10fc",
   "metadata": {},
   "outputs": [],
   "source": [
    "mse= np.mean(squared_error)**.5\n",
    "mse"
   ]
  },
  {
   "cell_type": "code",
   "execution_count": null,
   "id": "2983f2b7-da90-4040-998b-01ac1263bdb2",
   "metadata": {},
   "outputs": [],
   "source": [
    "x"
   ]
  },
  {
   "cell_type": "code",
   "execution_count": null,
   "id": "81ca5fff-75b3-4bd3-bbf8-f1f91b9242cb",
   "metadata": {},
   "outputs": [],
   "source": [
    "#3.13+-0.24"
   ]
  },
  {
   "cell_type": "code",
   "execution_count": null,
   "id": "97777eb0-e1bd-471e-b84b-d2ac15e33b19",
   "metadata": {},
   "outputs": [],
   "source": [
    "y"
   ]
  },
  {
   "cell_type": "code",
   "execution_count": 4,
   "id": "93ac85d3-6b39-414c-b372-1dc1ffb8c73c",
   "metadata": {},
   "outputs": [
    {
     "name": "stdout",
     "output_type": "stream",
     "text": [
      "0\n",
      "1\n",
      "2\n",
      "3\n",
      "4\n"
     ]
    }
   ],
   "source": [
    "for i in range(len(x)):\n",
    "    print(i)"
   ]
  },
  {
   "cell_type": "code",
   "execution_count": 5,
   "id": "4a4aa8e4-cb1f-41f4-9e1d-eb800179dd78",
   "metadata": {},
   "outputs": [
    {
     "name": "stdout",
     "output_type": "stream",
     "text": [
      "/bin/bash: line 1: cd: ../Documents: No such file or directory\n"
     ]
    }
   ],
   "source": [
    "!cd ../Documents"
   ]
  },
  {
   "cell_type": "code",
   "execution_count": 6,
   "id": "1a86be2a-db3d-4452-b964-1fa45d9aedf8",
   "metadata": {},
   "outputs": [
    {
     "data": {
      "text/plain": [
       "'/home/ke'"
      ]
     },
     "execution_count": 6,
     "metadata": {},
     "output_type": "execute_result"
    }
   ],
   "source": [
    "pwd"
   ]
  },
  {
   "cell_type": "code",
   "execution_count": 7,
   "id": "bd06a89a-b4cb-4efc-b2ed-f65714091f35",
   "metadata": {},
   "outputs": [
    {
     "name": "stdout",
     "output_type": "stream",
     "text": [
      "/home/ke/Documents\n"
     ]
    }
   ],
   "source": [
    "cd Documents/"
   ]
  },
  {
   "cell_type": "code",
   "execution_count": 15,
   "id": "dae23e81-9999-427d-b794-1769a2705a49",
   "metadata": {},
   "outputs": [],
   "source": [
    "df = pd.read_csv('tuberculoseD.csv',names=['year', 'cases'], header=None, index_col=0)"
   ]
  },
  {
   "cell_type": "code",
   "execution_count": 16,
   "id": "160a0a4a-5aab-4c88-ac93-f8f5c77ff5dd",
   "metadata": {},
   "outputs": [
    {
     "data": {
      "text/html": [
       "<div>\n",
       "<style scoped>\n",
       "    .dataframe tbody tr th:only-of-type {\n",
       "        vertical-align: middle;\n",
       "    }\n",
       "\n",
       "    .dataframe tbody tr th {\n",
       "        vertical-align: top;\n",
       "    }\n",
       "\n",
       "    .dataframe thead th {\n",
       "        text-align: right;\n",
       "    }\n",
       "</style>\n",
       "<table border=\"1\" class=\"dataframe\">\n",
       "  <thead>\n",
       "    <tr style=\"text-align: right;\">\n",
       "      <th></th>\n",
       "      <th>cases</th>\n",
       "    </tr>\n",
       "    <tr>\n",
       "      <th>year</th>\n",
       "      <th></th>\n",
       "    </tr>\n",
       "  </thead>\n",
       "  <tbody>\n",
       "    <tr>\n",
       "      <th>2001</th>\n",
       "      <td>6039</td>\n",
       "    </tr>\n",
       "    <tr>\n",
       "      <th>2002</th>\n",
       "      <td>4656</td>\n",
       "    </tr>\n",
       "    <tr>\n",
       "      <th>2003</th>\n",
       "      <td>777</td>\n",
       "    </tr>\n",
       "    <tr>\n",
       "      <th>2004</th>\n",
       "      <td>123</td>\n",
       "    </tr>\n",
       "    <tr>\n",
       "      <th>2005</th>\n",
       "      <td>781</td>\n",
       "    </tr>\n",
       "    <tr>\n",
       "      <th>2006</th>\n",
       "      <td>2308</td>\n",
       "    </tr>\n",
       "    <tr>\n",
       "      <th>2007</th>\n",
       "      <td>570</td>\n",
       "    </tr>\n",
       "    <tr>\n",
       "      <th>2008</th>\n",
       "      <td>914</td>\n",
       "    </tr>\n",
       "    <tr>\n",
       "      <th>2009</th>\n",
       "      <td>569</td>\n",
       "    </tr>\n",
       "    <tr>\n",
       "      <th>2010</th>\n",
       "      <td>780</td>\n",
       "    </tr>\n",
       "    <tr>\n",
       "      <th>2011</th>\n",
       "      <td>1608</td>\n",
       "    </tr>\n",
       "    <tr>\n",
       "      <th>2012</th>\n",
       "      <td>165</td>\n",
       "    </tr>\n",
       "    <tr>\n",
       "      <th>2013</th>\n",
       "      <td>1770</td>\n",
       "    </tr>\n",
       "    <tr>\n",
       "      <th>2014</th>\n",
       "      <td>464</td>\n",
       "    </tr>\n",
       "    <tr>\n",
       "      <th>2015</th>\n",
       "      <td>2442</td>\n",
       "    </tr>\n",
       "    <tr>\n",
       "      <th>2016</th>\n",
       "      <td>326</td>\n",
       "    </tr>\n",
       "    <tr>\n",
       "      <th>2017</th>\n",
       "      <td>924</td>\n",
       "    </tr>\n",
       "    <tr>\n",
       "      <th>2018</th>\n",
       "      <td>545</td>\n",
       "    </tr>\n",
       "    <tr>\n",
       "      <th>2019</th>\n",
       "      <td>515</td>\n",
       "    </tr>\n",
       "    <tr>\n",
       "      <th>2020</th>\n",
       "      <td>76</td>\n",
       "    </tr>\n",
       "  </tbody>\n",
       "</table>\n",
       "</div>"
      ],
      "text/plain": [
       "      cases\n",
       "year       \n",
       "2001   6039\n",
       "2002   4656\n",
       "2003    777\n",
       "2004    123\n",
       "2005    781\n",
       "2006   2308\n",
       "2007    570\n",
       "2008    914\n",
       "2009    569\n",
       "2010    780\n",
       "2011   1608\n",
       "2012    165\n",
       "2013   1770\n",
       "2014    464\n",
       "2015   2442\n",
       "2016    326\n",
       "2017    924\n",
       "2018    545\n",
       "2019    515\n",
       "2020     76"
      ]
     },
     "execution_count": 16,
     "metadata": {},
     "output_type": "execute_result"
    }
   ],
   "source": [
    "df"
   ]
  },
  {
   "cell_type": "code",
   "execution_count": 22,
   "id": "980e3ec0-a46b-4e8f-a761-d09bb1d03495",
   "metadata": {},
   "outputs": [
    {
     "data": {
      "text/plain": [
       "<matplotlib.collections.PathCollection at 0x7fe44011c070>"
      ]
     },
     "execution_count": 22,
     "metadata": {},
     "output_type": "execute_result"
    },
    {
     "data": {
      "image/png": "[encoded data removed]",
      "text/plain": [
       "<Figure size 432x288 with 1 Axes>"
      ]
     },
     "metadata": {
      "needs_background": "light"
     },
     "output_type": "display_data"
    }
   ],
   "source": [
    "plt.scatter(df.index, df['cases'])"
   ]
  },
  {
   "cell_type": "code",
   "execution_count": 21,
   "id": "198f313a-9c6b-4b5a-a456-6227d55db95a",
   "metadata": {},
   "outputs": [
    {
     "data": {
      "text/plain": [
       "Int64Index([2001, 2002, 2003, 2004, 2005, 2006, 2007, 2008, 2009, 2010, 2011,\n",
       "            2012, 2013, 2014, 2015, 2016, 2017, 2018, 2019, 2020],\n",
       "           dtype='int64', name='year')"
      ]
     },
     "execution_count": 21,
     "metadata": {},
     "output_type": "execute_result"
    }
   ],
   "source": [
    "df.index"
   ]
  },
  {
   "cell_type": "code",
   "execution_count": 26,
   "id": "c94fef37-eadd-4fc8-8ef8-a3475e440c1a",
   "metadata": {},
   "outputs": [
    {
     "data": {
      "text/plain": [
       "cases    6039\n",
       "Name: 2001, dtype: int64"
      ]
     },
     "execution_count": 26,
     "metadata": {},
     "output_type": "execute_result"
    }
   ],
   "source": [
    "df.iloc[0]"
   ]
  },
  {
   "cell_type": "code",
   "execution_count": null,
   "id": "fa382e38-a212-410c-b106-6ad9dba82a03",
   "metadata": {},
   "outputs": [],
   "source": []
  },
  {
   "cell_type": "code",
   "execution_count": 34,
   "id": "601ca6e8-b026-4c52-9bb1-8c154b9b11dd",
   "metadata": {
    "tags": []
   },
   "outputs": [],
   "source": [
    "m, c = np.polyfit(df.index, np.log(df['cases']), 1)"
   ]
  },
  {
   "cell_type": "code",
   "execution_count": 36,
   "id": "0c3bd3c0-f962-41f7-9f49-afe27c7cef91",
   "metadata": {},
   "outputs": [
    {
     "data": {
      "text/plain": [
       "(-0.08262646360095818, 172.75000821561366)"
      ]
     },
     "execution_count": 36,
     "metadata": {},
     "output_type": "execute_result"
    }
   ],
   "source": [
    "m,c "
   ]
  },
  {
   "cell_type": "code",
   "execution_count": 37,
   "id": "430dcd05-a784-466b-9cc7-e369b9fd6bf8",
   "metadata": {},
   "outputs": [
    {
     "data": {
      "text/plain": [
       "[1659.8035817393813,\n",
       " 1528.172852198976,\n",
       " 1406.9810981794667,\n",
       " 1295.4004566864278,\n",
       " 1192.6687184032899,\n",
       " 1098.0841210264564,\n",
       " 1011.0005555144317,\n",
       " 930.8231525059017,\n",
       " 857.0042187564679,\n",
       " 789.0394958367219,\n",
       " 726.4647155338985,\n",
       " 668.8524284276664,\n",
       " 615.8090839757024,\n",
       " 566.9723421629083,\n",
       " 522.008598350567,\n",
       " 480.6107044170779,\n",
       " 442.4958706238818,\n",
       " 407.4037338736893,\n",
       " 375.0945791657082,\n",
       " 345.34770209817674]"
      ]
     },
     "execution_count": 37,
     "metadata": {},
     "output_type": "execute_result"
    }
   ],
   "source": [
    "y = [np.exp(m*e+c) for e in df.index]\n",
    "y"
   ]
  },
  {
   "cell_type": "code",
   "execution_count": 38,
   "id": "e023b918-7fb7-4d0d-a037-634c5293261d",
   "metadata": {},
   "outputs": [
    {
     "data": {
      "text/plain": [
       "<matplotlib.collections.PathCollection at 0x7fe43e3083a0>"
      ]
     },
     "execution_count": 38,
     "metadata": {},
     "output_type": "execute_result"
    },
    {
     "data": {
      "image/png": "[encoded data removed]",
      "text/plain": [
       "<Figure size 432x288 with 1 Axes>"
      ]
     },
     "metadata": {
      "needs_background": "light"
     },
     "output_type": "display_data"
    }
   ],
   "source": [
    "plt.plot(df.index, y)\n",
    "plt.scatter(df.index, df['cases'])"
   ]
  },
  {
   "cell_type": "code",
   "execution_count": 39,
   "id": "f9f7ab45-acf6-4093-a3ce-69108fea316a",
   "metadata": {},
   "outputs": [
    {
     "data": {
      "text/plain": [
       "<matplotlib.collections.PathCollection at 0x7fe43e3f5610>"
      ]
     },
     "execution_count": 39,
     "metadata": {},
     "output_type": "execute_result"
    },
    {
     "data": {
      "image/png": "[encoded data removed]",
      "text/plain": [
       "<Figure size 432x288 with 1 Axes>"
      ]
     },
     "metadata": {
      "needs_background": "light"
     },
     "output_type": "display_data"
    }
   ],
   "source": [
    "plt.plot(df.index, np.log(y))\n",
    "plt.scatter(df.index, np.log(df['cases']))"
   ]
  },
  {
   "cell_type": "code",
   "execution_count": null,
   "id": "a11ef7e9-0047-4d7d-982c-99d83129c779",
   "metadata": {},
   "outputs": [],
   "source": []
  }
 ],
 "metadata": {
  "kernelspec": {
   "display_name": "Python 3 (ipykernel)",
   "language": "python",
   "name": "python3"
  },
  "language_info": {
   "codemirror_mode": {
    "name": "ipython",
    "version": 3
   },
   "file_extension": ".py",
   "mimetype": "text/x-python",
   "name": "python",
   "nbconvert_exporter": "python",
   "pygments_lexer": "ipython3",
   "version": "3.8.2"
  }
 },
 "nbformat": 4,
 "nbformat_minor": 5
}
