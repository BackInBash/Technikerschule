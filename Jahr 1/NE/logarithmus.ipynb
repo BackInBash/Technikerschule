{
 "metadata": {
  "language_info": {
   "codemirror_mode": {
    "name": "ipython",
    "version": 3
   },
   "file_extension": ".py",
   "mimetype": "text/x-python",
   "name": "python",
   "nbconvert_exporter": "python",
   "pygments_lexer": "ipython3",
   "version": 3
  },
  "orig_nbformat": 2
 },
 "nbformat": 4,
 "nbformat_minor": 2,
 "cells": [
  {
   "source": [
    "# Logarithmus\n",
    "\n",
    "Logarithmus ist die umkehrfunktion der Potenz.\n",
    "\n",
    "\\begin{equation*}\n",
    "10^1 = 100\n",
    "\\end{equation*}\n",
    "\n"
   ],
   "cell_type": "code",
   "metadata": {},
   "execution_count": null,
   "outputs": []
  }
 ]
}