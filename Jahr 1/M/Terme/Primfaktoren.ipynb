{
 "cells": [
  {
   "source": [
    "# Primfaktoren\n",
    "\n",
    "\\begin{equation*}\n",
    "18 = 2 * 9\n",
    "\\end{equation*}\n",
    "\\begin{equation*}\n",
    "   = 2 * 3 * 3\n",
    "\\end{equation*}\n",
    "\\begin{equation*}\n",
    "   = 2 * 3^2\n",
    "\\end{equation*}\n",
    "\n",
    "<br/>\n",
    "\n",
    "\\begin{equation*}\n",
    "45 = 3 * 15\n",
    "\\end{equation*}\n",
    "\\begin{equation*}\n",
    "   = 3 * 3 * 5\n",
    "\\end{equation*}\n",
    "\\begin{equation*}\n",
    "   = 3^2 * 5\n",
    "\\end{equation*}\n",
    "\n",
    "<br/>\n",
    "\n",
    "\\begin{equation*}\n",
    "\\frac{18}{45} = \\frac{2*3^2}{3^2*5} = \\frac{2}{5}\n",
    "\\end{equation*}\n",
    "\n",
    "<br/>\n",
    "\n",
    "\\begin{equation*}\n",
    "2795 = 5 * 559 = 5 * 13 * 43\n",
    "\\end{equation*}\n",
    "\n",
    "\\begin{equation*}\n",
    "12784 = 2^4*799\n",
    "\\end{equation*}\n",
    "\n",
    "## Primzahlen\n",
    "2, 3, 5, 7, 11, 13, 17, 19, 23"
   ],
   "cell_type": "code",
   "metadata": {},
   "execution_count": null,
   "outputs": []
  }
 ],
 "metadata": {
  "kernelspec": {
   "display_name": "Python 3",
   "language": "python",
   "name": "python3"
  },
  "language_info": {
   "codemirror_mode": {
    "name": "ipython",
    "version": 3
   },
   "file_extension": ".py",
   "mimetype": "text/x-python",
   "name": "python",
   "nbconvert_exporter": "python",
   "pygments_lexer": "ipython3",
   "version": "3.8.5-final"
  }
 },
 "nbformat": 4,
 "nbformat_minor": 0
}