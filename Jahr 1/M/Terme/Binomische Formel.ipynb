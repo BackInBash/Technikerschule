{
 "cells": [
  {
   "cell_type": "markdown",
   "execution_count": null,
   "metadata": {},
   "outputs": [],
   "source": [
    "# Binomische Formeln\n",
    "\n",
    "### Binom 1\n",
    "\\begin{equation*}\n",
    "(a+b) (a+b) = a^2+2ab+b^2\n",
    "\\end{equation*}\n",
    "\n",
    "### Binom 2\n",
    "\\begin{equation*}\n",
    "(a-b) (a-b) = a^2-2ab+b^2\n",
    "\\end{equation*}\n",
    "\n",
    "### Binom 3\n",
    "\\begin{equation*}\n",
    "(a+b) (a-b) = a^2+b^2\n",
    "\\end{equation*}\n",
    "\n",
    "**Beispiele:**\n",
    "\n",
    "\\begin{equation*}\n",
    "(3x+4y)^2 \n",
    "\\end{equation*}\n",
    "\n",
    "\\begin{equation*}\n",
    "= (3x)^3+2*3x*4y+(4y)^2\n",
    "\\end{equation*}\n",
    "\n",
    "\\begin{equation*}\n",
    "= 9x^2+24xy+16y^2\n",
    "\\end{equation*}\n",
    "\n",
    "<br/>\n",
    "\\begin{equation*}\n",
    "(3x-4y)^2\n",
    "\\end{equation*}\n",
    "\n",
    "\\begin{equation*}\n",
    "= (3x)^3+2*3x*(-4y)+(4y)^3\n",
    "\\end{equation*}\n",
    "\n",
    "\\begin{equation*}\n",
    "= 9x^2-24xy+16y^2\n",
    "\\end{equation*}\n",
    "<br/>\n",
    "\n",
    "\\begin{equation*}\n",
    "(3x+4y)(3x-4y)\n",
    "\\end{equation*}\n",
    "\n",
    "\\begin{equation*}\n",
    "= 9x^2+16^2\n",
    "\\end{equation*}"
   ]
  }
 ],
 "metadata": {
  "kernelspec": {
   "display_name": "Python 3",
   "language": "python",
   "name": "python3"
  },
  "language_info": {
   "codemirror_mode": {
    "name": "ipython",
    "version": 3
   },
   "file_extension": ".py",
   "mimetype": "text/x-python",
   "name": "python",
   "nbconvert_exporter": "python",
   "pygments_lexer": "ipython3",
   "version": "3.8.5-final"
  }
 },
 "nbformat": 4,
 "nbformat_minor": 0
}
