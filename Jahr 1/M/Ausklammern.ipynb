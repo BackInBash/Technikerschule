{
 "cells": [
  {
   "cell_type": "markdown",
   "execution_count": null,
   "metadata": {},
   "outputs": [],
   "source": [
    "# Ausmultiplizieren\n",
    "\n",
    "---\n",
    "**Regel:**\n",
    "a + ( b + c ) = ab + ac\n",
    "\n",
    "( a + b ) * ( a + c )  ac + ad + bc + bd\n",
    "\n",
    "Bsp:\n",
    "\\begin{equation*}\n",
    "-5a (4a-b) = -20a^2 + 5ab\n",
    "\\end{equation*}\n",
    "\n",
    "\\begin{equation*}\n",
    "(2a+3b)(3a-2b) = 6a^2 + 5ab - 6b^2\n",
    "\\end{equation*}"
   ]
  },
  {
   "cell_type": "markdown",
   "execution_count": null,
   "metadata": {},
   "outputs": [],
   "source": [
    "# Ausklammern (Faktorisieren)\n",
    "\n",
    "---\n",
    "**Regel:**\n",
    "ab + ac = a * ( b + c )\n",
    "\n",
    "Bsp:\n",
    "\n",
    "**Unfaktorisiert:**\n",
    "\\begin{equation*}\n",
    "6ax + 10a^2y = a * (6x+10ay)\n",
    "\\end{equation*}\n",
    "**Faktorisiert:**\n",
    "\\begin{equation*}\n",
    "= 2a (3x+5ay)\n",
    "\\end{equation*}\n",
    "**Unfaktorisiert:**\n",
    "\\begin{equation*}\n",
    "3x(a+2b)-5y(a+2b)\n",
    "\\end{equation*}\n",
    "**Faktorisiert:**\n",
    "\\begin{equation*}\n",
    "= (3x-5y)(a+2b)\n",
    "\\end{equation*}"
   ]
  }
 ],
 "metadata": {
  "kernelspec": {
   "display_name": "Python 3",
   "language": "python",
   "name": "python3"
  },
  "language_info": {
   "codemirror_mode": {
    "name": "ipython",
    "version": 3
   },
   "file_extension": ".py",
   "mimetype": "text/x-python",
   "name": "python",
   "nbconvert_exporter": "python",
   "pygments_lexer": "ipython3",
   "version": "3.8.5-final"
  }
 },
 "nbformat": 4,
 "nbformat_minor": 0
}
