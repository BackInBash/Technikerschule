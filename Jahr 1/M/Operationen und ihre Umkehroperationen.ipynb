{
 "cells": [
  {
   "source": [
    "# Operationen und ihre Umkehroperationen\n",
    "\n",
    "+ **Addition**\n",
    "\\begin{equation*}\n",
    "2 + 3 = 2\n",
    "\\end{equation*}\n",
    "\n",
    "+ **Subtraktion (als Umkehroperation)**\n",
    "\n",
    "\\begin{equation*}\n",
    "5 - 3 = 2\n",
    "\\end{equation*}\n",
    "\n",
    "+ **Multiplikation**\n",
    "\n",
    "\\begin{equation*}\n",
    "4 * 7 = 35\n",
    "\\end{equation*}\n",
    "\n",
    "+ **Division (Umkehrung der Multiplikation)**\n",
    "\\begin{equation*}\n",
    "\\dfrac{35}{7} = 4\n",
    "\\end{equation*}\n",
    "\n",
    "+ **Potenzieren**\n",
    "\n",
    "\\begin{equation*}\n",
    "2^3 = 8\n",
    "\\end{equation*}\n",
    "\n",
    "\\begin{equation*}\n",
    "\\sqrt[3]{8} = 2\n",
    "\\end{equation*}\n",
    "\n",
    "**Wurzelziehen als Umkehrung für Potenzen**\n",
    "\n",
    "\\begin{equation*}\n",
    "\\log_2 = 8\n",
    "\\end{equation*}\n",
    "\n",
    "Logarithmus 2 zur Unkehrung der Potenz\n"
   ],
   "cell_type": "markdown",
   "metadata": {}
  }
 ],
 "metadata": {
  "kernelspec": {
   "display_name": "Python 3",
   "language": "python",
   "name": "python3"
  },
  "language_info": {
   "codemirror_mode": {
    "name": "ipython",
    "version": 3
   },
   "file_extension": ".py",
   "mimetype": "text/x-python",
   "name": "python",
   "nbconvert_exporter": "python",
   "pygments_lexer": "ipython3",
   "version": "3.8.5-final"
  }
 },
 "nbformat": 4,
 "nbformat_minor": 0
}