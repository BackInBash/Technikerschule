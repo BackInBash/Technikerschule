{
 "cells": [
  {
   "source": [
    "# Gleichungen\n",
    "\n",
    "Eine Zahl heißt Lösung einer Gleichung, wenn die Terme auf beiden Seiten der Gleichung beim Einsetzen dieser Zahl zu einer wahren Aussage führen.\n",
    "\n",
    "\\begin{equation*}\n",
    "2*x+1 = 4*x-1\n",
    "\\end{equation*}\n",
    "\n",
    "x = b\n",
    "\n",
    "\\begin{equation*}\n",
    "2*0+1=4*0-1\n",
    "\\end{equation*}\n",
    "\\begin{equation*}\n",
    "1=-1\n",
    "\\end{equation*}\n",
    "\n",
    "x = 1\n",
    "\\begin{equation*}\n",
    "2*1+1 = 4*1-1\n",
    "\\end{equation*}\n",
    "\\begin{equation*}\n",
    "3 = 3\n",
    "\\end{equation*}\n",
    "\n",
    "# Äquivalentsumformungen\n",
    "\n",
    "Eine Äquivalenzumformung ist eine Umformung, welche die Aussage einer Gleichung nicht verändert.\n",
    "    -> Addieren von Werten auf beiden Seiten\n",
    "    -> Subtrahieren von Werten\n",
    "    -> Multiplizieren von Werten \n",
    "    -> Dividieren von Werten außer Null\n",
    "\n",
    "\\begin{equation*}\n",
    "7x+11 = 3x+3 | -3x\n",
    "\\end{equation*}\n",
    "\\begin{equation*}\n",
    "4x+11=3 | -11\n",
    "\\end{equation*}\n",
    "\\begin{equation*}\n",
    "4x = -8 | :4\n",
    "\\end{equation*}\n",
    "\n",
    "\\begin{equation*}\n",
    "x = -2\n",
    "\\end{equation*}\n",
    "\\begin{equation*}\n",
    "L = { -2 }\n",
    "\\end{equation*}\n",
    "\n",
    "# Ungleichungen\n"
   ],
   "cell_type": "code",
   "metadata": {},
   "execution_count": null,
   "outputs": []
  }
 ],
 "metadata": {
  "kernelspec": {
   "display_name": "Python 3",
   "language": "python",
   "name": "python3"
  },
  "language_info": {
   "codemirror_mode": {
    "name": "ipython",
    "version": 3
   },
   "file_extension": ".py",
   "mimetype": "text/x-python",
   "name": "python",
   "nbconvert_exporter": "python",
   "pygments_lexer": "ipython3",
   "version": "3.8.5-final"
  }
 },
 "nbformat": 4,
 "nbformat_minor": 0
}