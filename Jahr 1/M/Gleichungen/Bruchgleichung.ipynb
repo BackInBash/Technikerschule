{
 "cells": [
  {
   "source": [
    "# Bruchgleichung\n",
    "\n",
    "\\begin{equation*}\n",
    "\\frac{7x-2}{2x-6}-\\frac{3x-1}{x+3}=\\frac{x-15}{2x+6}\n",
    "\\end{equation*}\n",
    "\n",
    "## Vorgehensweise\n",
    "\n",
    "### 1. Definitionsmenge bestimmen\n",
    "D=R∖{(−3;3)}\n",
    "\n",
    "### 2. Kleinster gemeinsammer Nenner durch Faktorisieren bestimmen (Hauptnenner)\n",
    "\n",
    "**Hauptnenner**:\n",
    "\\begin{equation*}\n",
    "2(x+3)(x-3)\n",
    "\\end{equation*}\n",
    "\n",
    "### 3. Mit Hauptnenner erweitern (über kreuz)\n",
    "\n",
    "\\begin{equation*}\n",
    "\\frac{(7x-2)(x+3)-(3x-1)2(x-3)-(x-15)(x-3)}{2(x+3)(x-3)}=0\n",
    "\\end{equation*}\n",
    "\n",
    "### Ausmultiplizieren / Zusammenfassen\n",
    "\n",
    "\\begin{equation*}\n",
    "\\frac{7x2+21x−6−6x2+18x−6−x2+18x−45}{2(x+3)(x-3)} = 0\n",
    "\\end{equation*}\n",
    "\n",
    "\\begin{equation*}\n",
    "\\frac{57x-57}{2(x+3)(x-3)}=0\n",
    "\\end{equation*}\n",
    "\n",
    "\\begin{equation*}\n",
    "57x-57=0\n",
    "\\end{equation*}\n",
    "\n",
    "\\begin{equation*}\n",
    "x=1\n",
    "\\end{equation*}"
   ],
   "cell_type": "markdown",
   "metadata": {}
  }
 ],
 "metadata": {
  "kernelspec": {
   "display_name": "Python 3",
   "language": "python",
   "name": "python3"
  },
  "language_info": {
   "codemirror_mode": {
    "name": "ipython",
    "version": 3
   },
   "file_extension": ".py",
   "mimetype": "text/x-python",
   "name": "python",
   "nbconvert_exporter": "python",
   "pygments_lexer": "ipython3",
   "version": "3.8.5-final"
  }
 },
 "nbformat": 4,
 "nbformat_minor": 0
}
